{
 "cells": [
  {
   "cell_type": "markdown",
   "metadata": {},
   "source": [
    "# Variables, Constants, Expressions in Python\n",
    "***"
   ]
  },
  {
   "cell_type": "markdown",
   "metadata": {},
   "source": [
    "## Constants\n",
    "\n",
    "### Fixed values such as numbers, letters and strings, are called \"constants\" because their value does not change\n",
    "\n",
    "### Numeric constants are as you would expect\n",
    "\n",
    "### String constants use single-quotes or double-quotes"
   ]
  },
  {
   "cell_type": "markdown",
   "metadata": {},
   "source": [
    "## Reserved Words\n",
    "\n",
    "### You cannot use reserved words as variable names / identifiers\n",
    "\n",
    "### Think of more elaborative names"
   ]
  },
  {
   "cell_type": "markdown",
   "metadata": {},
   "source": [
    "## Variables\n",
    "\n",
    "### A variable is a named place within the memory where the programmer stores data and later retrieve whatever is assigned to the variable later\n",
    "\n",
    "### These contents can also be changed in later statements"
   ]
  },
  {
   "cell_type": "code",
   "execution_count": 1,
   "metadata": {},
   "outputs": [],
   "source": [
    "x = 8 "
   ]
  },
  {
   "cell_type": "markdown",
   "metadata": {},
   "source": [
    "### Our variable 'x' now holds a value of 8. The equals sign in this statment should be considered the assignment statement. This assigned value does not have to be permanent"
   ]
  },
  {
   "cell_type": "markdown",
   "metadata": {},
   "source": [
    "### Must start with a letter or an underscore, case-sensitive\n",
    "\n",
    "### Assignment with an expression example:"
   ]
  },
  {
   "cell_type": "code",
   "execution_count": 2,
   "metadata": {},
   "outputs": [],
   "source": [
    "x = x + 8"
   ]
  },
  {
   "cell_type": "markdown",
   "metadata": {},
   "source": [
    "### Print Statement"
   ]
  },
  {
   "cell_type": "code",
   "execution_count": 3,
   "metadata": {},
   "outputs": [
    {
     "name": "stdout",
     "output_type": "stream",
     "text": [
      "Hello World\n"
     ]
    }
   ],
   "source": [
    "print('Hello World')"
   ]
  },
  {
   "cell_type": "markdown",
   "metadata": {},
   "source": [
    "## Expressions"
   ]
  },
  {
   "cell_type": "code",
   "execution_count": 4,
   "metadata": {},
   "outputs": [
    {
     "name": "stdout",
     "output_type": "stream",
     "text": [
      "4\n",
      "5280\n",
      "5.28\n",
      "3\n",
      "64\n"
     ]
    }
   ],
   "source": [
    "xx = 2\n",
    "xx = xx + 2\n",
    "print(xx)\n",
    "\n",
    "yy = 440 * 12 \n",
    "print(yy)\n",
    "\n",
    "zz = yy / 1000\n",
    "print(zz)\n",
    "\n",
    "jj = 23\n",
    "kk = jj % 5\n",
    "print(kk)\n",
    "\n",
    "print(4 ** 3)\n"
   ]
  },
  {
   "cell_type": "markdown",
   "metadata": {},
   "source": [
    "## Order of Evaulation\n",
    "\n",
    "### Python will try to determine which operations to perform first -- this is called Operator Precedence"
   ]
  },
  {
   "cell_type": "code",
   "execution_count": null,
   "metadata": {},
   "outputs": [],
   "source": [
    "x = 1 + 2 * 3 - 4 / 5 ** 6"
   ]
  },
  {
   "cell_type": "markdown",
   "metadata": {},
   "source": [
    "### Parenthesis always take the highest precedence, followed by exponents, then multiplication / division or remainder, addition / subtraction, then read left to right"
   ]
  },
  {
   "cell_type": "markdown",
   "metadata": {},
   "source": [
    "## Type\n",
    "\n",
    "### Type is used to describe the data being assigned to a variable\n",
    "\n",
    "### Type can be a string, an integer, a boolean\n",
    "\n",
    "### Concatenating data types means to combine them in a way that makes sense to the Python compiler"
   ]
  },
  {
   "cell_type": "code",
   "execution_count": 12,
   "metadata": {},
   "outputs": [
    {
     "name": "stdout",
     "output_type": "stream",
     "text": [
      "kyle griffith\n"
     ]
    }
   ],
   "source": [
    "first_name = 'kyle'\n",
    "last_name = 'griffith'\n",
    "print(first_name + ' ' + last_name)"
   ]
  },
  {
   "cell_type": "markdown",
   "metadata": {},
   "source": [
    "### It is important to account for spaces needed during concatenation, and to properly concatenate past the space"
   ]
  },
  {
   "cell_type": "markdown",
   "metadata": {},
   "source": [
    "## Types of Numbers in Python\n",
    "\n",
    "### Integers: whole numbers \n",
    "\n",
    "### Floating Point: A number containing a decimal"
   ]
  },
  {
   "cell_type": "code",
   "execution_count": 3,
   "metadata": {},
   "outputs": [
    {
     "name": "stdout",
     "output_type": "stream",
     "text": [
      "<class 'int'>\n",
      "<class 'float'>\n"
     ]
    }
   ],
   "source": [
    "# Int\n",
    "xx = 8\n",
    "print(type(xx))\n",
    "\n",
    "# Float\n",
    "xz = 8.8\n",
    "print(type(xz))"
   ]
  },
  {
   "cell_type": "markdown",
   "metadata": {},
   "source": [
    "## Type Conversion\n",
    "\n",
    "### When you put and integer and a floating point in an expression, the integer is **implicitly** converted to a float\n",
    "\n",
    "### You can control this behavior with built in functions like int() & float()"
   ]
  },
  {
   "cell_type": "markdown",
   "metadata": {},
   "source": [
    "## Integer Divison\n",
    "\n",
    "### Integer Divison produces a floating point result"
   ]
  },
  {
   "cell_type": "code",
   "execution_count": 6,
   "metadata": {},
   "outputs": [
    {
     "name": "stdout",
     "output_type": "stream",
     "text": [
      "8.0\n"
     ]
    },
    {
     "data": {
      "text/plain": [
       "float"
      ]
     },
     "execution_count": 6,
     "metadata": {},
     "output_type": "execute_result"
    }
   ],
   "source": [
    "x = 64 / 8 \n",
    "print(x)\n",
    "type(x)"
   ]
  },
  {
   "cell_type": "markdown",
   "metadata": {},
   "source": [
    "## String Conversion\n",
    "\n",
    "### You can also use int() and float() to convert between strings and integers\n",
    "\n",
    "### You will get an **error** if the string does not contain numeric characters"
   ]
  },
  {
   "cell_type": "code",
   "execution_count": 11,
   "metadata": {},
   "outputs": [
    {
     "name": "stdout",
     "output_type": "stream",
     "text": [
      "124\n"
     ]
    }
   ],
   "source": [
    "sval = '123'\n",
    "type(sval)\n",
    "# Prompts an error\n",
    "# print(sval + 1)\n",
    "\n",
    "# By converting the string to an int, we are able to add to it as if it were an integer\n",
    "ival = int(sval)\n",
    "type(ival)\n",
    "print(ival + 1)"
   ]
  },
  {
   "cell_type": "markdown",
   "metadata": {},
   "source": [
    "## User Input\n",
    "\n",
    "### We can instruct Python to pause and read data from the user using the input() function\n",
    "\n",
    "### The input() function will return a string"
   ]
  },
  {
   "cell_type": "code",
   "execution_count": 15,
   "metadata": {},
   "outputs": [
    {
     "name": "stdout",
     "output_type": "stream",
     "text": [
      "Welcome, Kyle\n"
     ]
    }
   ],
   "source": [
    "name = input('What is your name?')\n",
    "print('Welcome,', name)"
   ]
  }
 ],
 "metadata": {
  "interpreter": {
   "hash": "72826dfdcb7be2f211cdc200c8401b2045969afab654af94c785fe220ff13171"
  },
  "kernelspec": {
   "display_name": "Python 3.10.4 64-bit",
   "language": "python",
   "name": "python3"
  },
  "language_info": {
   "codemirror_mode": {
    "name": "ipython",
    "version": 3
   },
   "file_extension": ".py",
   "mimetype": "text/x-python",
   "name": "python",
   "nbconvert_exporter": "python",
   "pygments_lexer": "ipython3",
   "version": "3.10.4"
  },
  "orig_nbformat": 4
 },
 "nbformat": 4,
 "nbformat_minor": 2
}
