{
 "cells": [
  {
   "cell_type": "markdown",
   "metadata": {},
   "source": [
    "# Conditional Execution -- More Conditional Structures\n",
    "\n",
    "***"
   ]
  },
  {
   "cell_type": "markdown",
   "metadata": {},
   "source": [
    "## If Statement"
   ]
  },
  {
   "cell_type": "code",
   "execution_count": 1,
   "metadata": {},
   "outputs": [
    {
     "name": "stdout",
     "output_type": "stream",
     "text": [
      "Smaller\n",
      "Finis\n"
     ]
    }
   ],
   "source": [
    "x = 5\n",
    "if x < 10:\n",
    "    print('Smaller')\n",
    "if x > 20:\n",
    "    print('Bigger')\n",
    "print('Finis')"
   ]
  },
  {
   "cell_type": "markdown",
   "metadata": {},
   "source": [
    "## Comparison Operators\n",
    "\n",
    "| Python | Meaning |\n",
    " :------------: | :-------: |\n",
    "|   <   | Less Than |\n",
    "|   <=  | Less Than or Equal To |\n",
    "|   ==  | Equal To  |\n",
    "|   >=  | Greater Than or Equal To  |\n",
    "|   >   | Greater Than  |\n",
    "| !=    | Not Equal To  |"
   ]
  },
  {
   "cell_type": "markdown",
   "metadata": {},
   "source": [
    "## Multi-way Conditionals"
   ]
  },
  {
   "cell_type": "code",
   "execution_count": 3,
   "metadata": {},
   "outputs": [
    {
     "name": "stdout",
     "output_type": "stream",
     "text": [
      "small\n",
      "All done\n"
     ]
    }
   ],
   "source": [
    "x = 1 \n",
    "if x < 2 :\n",
    "    print('small')\n",
    "elif x < 10 :\n",
    "    print('Medium')\n",
    "else : \n",
    "    print('LARGE')\n",
    "print('All done')    "
   ]
  }
 ],
 "metadata": {
  "interpreter": {
   "hash": "72826dfdcb7be2f211cdc200c8401b2045969afab654af94c785fe220ff13171"
  },
  "kernelspec": {
   "display_name": "Python 3.10.4 64-bit",
   "language": "python",
   "name": "python3"
  },
  "language_info": {
   "codemirror_mode": {
    "name": "ipython",
    "version": 3
   },
   "file_extension": ".py",
   "mimetype": "text/x-python",
   "name": "python",
   "nbconvert_exporter": "python",
   "pygments_lexer": "ipython3",
   "version": "3.10.4"
  },
  "orig_nbformat": 4
 },
 "nbformat": 4,
 "nbformat_minor": 2
}
